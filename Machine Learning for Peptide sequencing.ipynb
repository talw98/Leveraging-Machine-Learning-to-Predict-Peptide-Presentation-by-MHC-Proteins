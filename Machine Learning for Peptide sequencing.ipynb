{
 "cells": [
  {
   "cell_type": "markdown",
   "id": "550a23ab",
   "metadata": {
    "tags": []
   },
   "source": [
    "# Leveraging Machine Learning to Predict Peptide Presentation by MHC Proteins\n",
    "**by: MUHAMMAD TALHA WAQAS**"
   ]
  },
  {
   "cell_type": "markdown",
   "id": "78b77857",
   "metadata": {},
   "source": [
    "## TASK DESCRIPTION\n",
    "\n",
    "The problem revolves around the fact whether a particular peptide sequence will be presented by a specific MHC class I (MHC1) protein, denoted by its allele name. MHC proteins have the ability to display peptides, which are short chains of amino acids, on the surface of cells. By providing T cells with peptides, MHC1 proteins play a critical function in the immune system by allowing the immune system to keep an eye on cells for indications of infection or aberrant activity.\n",
    "\n",
    "Because of genetic variants in the MHC1 genes, or alleles, each person has a distinct collection of MHC1 proteins. Individual differences in MHC1 proteins enable the immune system to identify a broad spectrum of possible dangers, such as infections and cancerous cells.\n",
    "\n",
    "Understanding immune responses and creating immunotherapies, especially for the treatment of cancer, depend on identifying the precise peptides that MHC proteins present. Treatments that are less harmful and more successful can be achieved by focusing on particular peptides that are provided by MHC1 proteins. This will assist activate the immune system to identify and destroy cancer cells while preserving healthy cells.\n",
    "\n",
    "\n",
    "\n",
    "## OBJECTIVE\n",
    "\n",
    "The primary objective is to build a predictive model that can accurately determine whether a given peptide sequence will be presented by a specific MHC1 protein, based on its allele name. The model will be trained on the dataset containing peptide sequences, corresponding allele names, and binary labels indicating peptide presentation i.e., '1' if the peptide is present and '0' for else.\n",
    "\n",
    "The ultimate goal is to develop a robust classifier that can assist in identifying peptides with potential immunogenic properties, facilitating the discovery and development of novel immunotherapies for various diseases, including cancer.\n"
   ]
  },
  {
   "cell_type": "markdown",
   "id": "af5b90fe",
   "metadata": {},
   "source": [
    "## SECTIONS\n",
    "\n",
    "The Jupyter Notebook for this task is divided into 4 sections, each section containing the code and descriptions to reach the intended goal of the task. The Four sections of this notebook are:\n",
    "\n",
    "**1. DATASET ANALYSIS:**\n",
    "\n",
    "This section delves into exploring the dataset, examining its characteristics, and uncovering potential issues. It includes an analysis of key statistics such as the distribution of target variables, alleles, and peptide lengths. Additionally, missing values are checked to ensure data integrity.\n",
    "\n",
    "**2. METHOD EXPLANATION:**\n",
    "\n",
    "Here, the methods employed in the approach of this task are explained. Random Forest Classifier, a robust ensemble learning algorithm, is described and explained, as well as the concept of one-hot encoding for peptide sequences and alleles, a technique crucial for representing categorical data in machine learning models. References are also provided in this section as required.\n",
    "\n",
    "**3. EXPERIMENT DESCRIPTION:**\n",
    "\n",
    "This section outlines experimental approach to showcase the effectiveness of the proposed methods. The process of training Random Forest Classifier using one hot encoded sequences of peptides and alleles are explained .\n",
    "\n",
    "\n",
    "**4. RESULT ANALYSIS:**\n",
    "\n",
    "In the final section, outcomes of the experiments are analysed. The model's performance metrics, including accuracy, precision, recall, and F1-score, on both training and test sets are scrutinized. Furthermore, a confusion matrix is made to gain insights into the model's predictive capabilities and potential areas for enhancement. In the end, recommendations are given for further imrpoving the model with references.\n",
    "\n"
   ]
  },
  {
   "cell_type": "markdown",
   "id": "1753a506",
   "metadata": {},
   "source": [
    "## 1. DATASET ANALYSIS\n",
    "\n",
    "Firstly, the necessary libraries needed for this task are loaded in the code cell below."
   ]
  },
  {
   "cell_type": "code",
   "execution_count": 2,
   "id": "cb833147",
   "metadata": {},
   "outputs": [],
   "source": [
    "import pandas as pd\n",
    "from sklearn.model_selection import cross_val_score\n",
    "from sklearn.ensemble import RandomForestClassifier\n",
    "from sklearn.metrics import accuracy_score, classification_report, confusion_matrix\n",
    "import matplotlib.pyplot as plt\n",
    "import seaborn as sns\n",
    "import numpy as np\n"
   ]
  },
  {
   "cell_type": "markdown",
   "id": "933e3369",
   "metadata": {},
   "source": [
    "In the next step, all the five folds of the training data are loaded and concatented using Pandas to create `train_data`, containing the entire data from the five folds. The `test.csv` data was loaded into `test_data` using Pandas. After that, random sampling and 10,000 values from the `train_data` were selected to create `train_data_sample` in order to balance computational efficiency and representativeness, while the entire test dataset (`test_data`) will be used for comprehensive model evaluation to assess its generalization performance on unseen data."
   ]
  },
  {
   "cell_type": "code",
   "execution_count": 3,
   "id": "df6010c4",
   "metadata": {},
   "outputs": [
    {
     "data": {
      "text/html": [
       "<div>\n",
       "<style scoped>\n",
       "    .dataframe tbody tr th:only-of-type {\n",
       "        vertical-align: middle;\n",
       "    }\n",
       "\n",
       "    .dataframe tbody tr th {\n",
       "        vertical-align: top;\n",
       "    }\n",
       "\n",
       "    .dataframe thead th {\n",
       "        text-align: right;\n",
       "    }\n",
       "</style>\n",
       "<table border=\"1\" class=\"dataframe\">\n",
       "  <thead>\n",
       "    <tr style=\"text-align: right;\">\n",
       "      <th></th>\n",
       "      <th>peptide</th>\n",
       "      <th>allele</th>\n",
       "      <th>hit</th>\n",
       "    </tr>\n",
       "  </thead>\n",
       "  <tbody>\n",
       "    <tr>\n",
       "      <th>546550</th>\n",
       "      <td>NLPPLYRALT</td>\n",
       "      <td>HLA-B*51:01</td>\n",
       "      <td>0</td>\n",
       "    </tr>\n",
       "    <tr>\n",
       "      <th>316695</th>\n",
       "      <td>GVPIVDNQEDR</td>\n",
       "      <td>HLA-B*15:01</td>\n",
       "      <td>0</td>\n",
       "    </tr>\n",
       "    <tr>\n",
       "      <th>732715</th>\n",
       "      <td>TTFWLTREE</td>\n",
       "      <td>HLA-C*16:01</td>\n",
       "      <td>0</td>\n",
       "    </tr>\n",
       "    <tr>\n",
       "      <th>3185545</th>\n",
       "      <td>SEVALMTTSV</td>\n",
       "      <td>HLA-A*31:01</td>\n",
       "      <td>0</td>\n",
       "    </tr>\n",
       "    <tr>\n",
       "      <th>1396151</th>\n",
       "      <td>SWGLDYIVLTS</td>\n",
       "      <td>HLA-C*04:01</td>\n",
       "      <td>0</td>\n",
       "    </tr>\n",
       "  </tbody>\n",
       "</table>\n",
       "</div>"
      ],
      "text/plain": [
       "             peptide       allele  hit\n",
       "546550    NLPPLYRALT  HLA-B*51:01    0\n",
       "316695   GVPIVDNQEDR  HLA-B*15:01    0\n",
       "732715     TTFWLTREE  HLA-C*16:01    0\n",
       "3185545   SEVALMTTSV  HLA-A*31:01    0\n",
       "1396151  SWGLDYIVLTS  HLA-C*04:01    0"
      ]
     },
     "execution_count": 3,
     "metadata": {},
     "output_type": "execute_result"
    }
   ],
   "source": [
    "train_data = pd.concat([pd.read_csv(f\"fold_{i}.csv\") for i in range(5)], ignore_index=True)\n",
    "test_data = pd.read_csv(\"test.csv\")\n",
    "\n",
    "# Sampling a smaller fraction of the data, using 10,000 samples\n",
    "train_data_sample = train_data.sample(n=10000, random_state=42)\n",
    "\n",
    "train_data_sample.head()"
   ]
  },
  {
   "cell_type": "markdown",
   "id": "79745cfa",
   "metadata": {},
   "source": [
    "Next, the `describe` function of pandas is used to gain a statistical understanding of the dataset:"
   ]
  },
  {
   "cell_type": "code",
   "execution_count": 3,
   "id": "02ec3071",
   "metadata": {},
   "outputs": [
    {
     "data": {
      "text/html": [
       "<div>\n",
       "<style scoped>\n",
       "    .dataframe tbody tr th:only-of-type {\n",
       "        vertical-align: middle;\n",
       "    }\n",
       "\n",
       "    .dataframe tbody tr th {\n",
       "        vertical-align: top;\n",
       "    }\n",
       "\n",
       "    .dataframe thead th {\n",
       "        text-align: right;\n",
       "    }\n",
       "</style>\n",
       "<table border=\"1\" class=\"dataframe\">\n",
       "  <thead>\n",
       "    <tr style=\"text-align: right;\">\n",
       "      <th></th>\n",
       "      <th>hit</th>\n",
       "    </tr>\n",
       "  </thead>\n",
       "  <tbody>\n",
       "    <tr>\n",
       "      <th>count</th>\n",
       "      <td>10000.000000</td>\n",
       "    </tr>\n",
       "    <tr>\n",
       "      <th>mean</th>\n",
       "      <td>0.054800</td>\n",
       "    </tr>\n",
       "    <tr>\n",
       "      <th>std</th>\n",
       "      <td>0.227601</td>\n",
       "    </tr>\n",
       "    <tr>\n",
       "      <th>min</th>\n",
       "      <td>0.000000</td>\n",
       "    </tr>\n",
       "    <tr>\n",
       "      <th>25%</th>\n",
       "      <td>0.000000</td>\n",
       "    </tr>\n",
       "    <tr>\n",
       "      <th>50%</th>\n",
       "      <td>0.000000</td>\n",
       "    </tr>\n",
       "    <tr>\n",
       "      <th>75%</th>\n",
       "      <td>0.000000</td>\n",
       "    </tr>\n",
       "    <tr>\n",
       "      <th>max</th>\n",
       "      <td>1.000000</td>\n",
       "    </tr>\n",
       "  </tbody>\n",
       "</table>\n",
       "</div>"
      ],
      "text/plain": [
       "                hit\n",
       "count  10000.000000\n",
       "mean       0.054800\n",
       "std        0.227601\n",
       "min        0.000000\n",
       "25%        0.000000\n",
       "50%        0.000000\n",
       "75%        0.000000\n",
       "max        1.000000"
      ]
     },
     "execution_count": 3,
     "metadata": {},
     "output_type": "execute_result"
    }
   ],
   "source": [
    "train_data_sample.describe()\n",
    "\n"
   ]
  },
  {
   "cell_type": "markdown",
   "id": "37c6d627",
   "metadata": {},
   "source": [
    "To understand the types of each column, `info` function of pandas will be used:"
   ]
  },
  {
   "cell_type": "code",
   "execution_count": 4,
   "id": "ec51ac86",
   "metadata": {},
   "outputs": [
    {
     "name": "stdout",
     "output_type": "stream",
     "text": [
      "<class 'pandas.core.frame.DataFrame'>\n",
      "Int64Index: 10000 entries, 546550 to 272425\n",
      "Data columns (total 3 columns):\n",
      " #   Column   Non-Null Count  Dtype \n",
      "---  ------   --------------  ----- \n",
      " 0   peptide  10000 non-null  object\n",
      " 1   allele   10000 non-null  object\n",
      " 2   hit      10000 non-null  int64 \n",
      "dtypes: int64(1), object(2)\n",
      "memory usage: 312.5+ KB\n"
     ]
    }
   ],
   "source": [
    "train_data_sample.info()"
   ]
  },
  {
   "cell_type": "markdown",
   "id": "eab8dffa",
   "metadata": {},
   "source": [
    "'peptide' and 'allele' have the 'object' datatype associated with them, whereas the target variable 'hit' is numeric and has the 'int64' or integer data type associated with it."
   ]
  },
  {
   "cell_type": "markdown",
   "id": "ff92a1a2",
   "metadata": {},
   "source": [
    "Next, any null values in the training data will be checked:"
   ]
  },
  {
   "cell_type": "code",
   "execution_count": 5,
   "id": "a7ca4c19",
   "metadata": {},
   "outputs": [
    {
     "data": {
      "text/plain": [
       "peptide    0\n",
       "allele     0\n",
       "hit        0\n",
       "dtype: int64"
      ]
     },
     "execution_count": 5,
     "metadata": {},
     "output_type": "execute_result"
    }
   ],
   "source": [
    "train_data_sample.isnull().sum()"
   ]
  },
  {
   "cell_type": "markdown",
   "id": "2cc6de50",
   "metadata": {},
   "source": [
    "There are no null values in the training data."
   ]
  },
  {
   "cell_type": "markdown",
   "id": "f2a1331e",
   "metadata": {},
   "source": [
    "Next, distribution of target variable, alleles and the peptide length distribution will be checked.`value_counts()` will be used for 'allele' and 'hit', but `desribe()` function for peptide length distribution, as it provides a summary of key statistics for the peptide length distribution, offering insights into the central tendency and variability of the data. While `value_counts()` could show the frequency of specific peptide lengths, `describe()` offers a more comprehensive overview of the distribution's characteristics, facilitating quantitative analysis and identification of outliers."
   ]
  },
  {
   "cell_type": "code",
   "execution_count": 45,
   "id": "b5b6353d",
   "metadata": {},
   "outputs": [
    {
     "name": "stdout",
     "output_type": "stream",
     "text": [
      "Target Variable Distribution:\n",
      "0    9452\n",
      "1     548\n",
      "Name: hit, dtype: int64\n",
      "Allele Distribution:\n",
      "HLA-A*02:01    705\n",
      "HLA-B*07:02    538\n",
      "HLA-B*57:01    498\n",
      "HLA-A*29:02    495\n",
      "HLA-B*40:02    395\n",
      "              ... \n",
      "HLA-B*39:05      1\n",
      "HLA-B*15:17      1\n",
      "HLA-B*37:01      1\n",
      "HLA-B*41:04      1\n",
      "HLA-B*41:05      1\n",
      "Name: allele, Length: 99, dtype: int64\n",
      "Peptide Length Distribution:\n",
      "count    10000.000000\n",
      "mean        10.834500\n",
      "std          1.968577\n",
      "min          8.000000\n",
      "25%          9.000000\n",
      "50%         11.000000\n",
      "75%         13.000000\n",
      "max         15.000000\n",
      "Name: peptide_length, dtype: float64\n"
     ]
    }
   ],
   "source": [
    "#Check distribution of target variable\n",
    "print(\"Target Variable Distribution:\")\n",
    "print(train_data_sample['hit'].value_counts())\n",
    "\n",
    "#Check distribution of alleles\n",
    "print(\"Allele Distribution:\")\n",
    "print(train_data_sample['allele'].value_counts())\n",
    "\n",
    "#Check length distribution of peptides\n",
    "train_data_sample['peptide_length'] = train_data_sample['peptide'].apply(len)\n",
    "print(\"Peptide Length Distribution:\")\n",
    "print(train_data_sample['peptide_length'].describe())"
   ]
  },
  {
   "cell_type": "code",
   "execution_count": 4,
   "id": "eb149e0c",
   "metadata": {},
   "outputs": [
    {
     "data": {
      "text/plain": [
       "HLA-A02:02    77053\n",
       "HLA-A02:06    54510\n",
       "HLA-A02:11    48445\n",
       "HLA-B53:01    46991\n",
       "HLA-B15:17    45917\n",
       "HLA-A02:05    45136\n",
       "HLA-B15:03    44968\n",
       "HLA-A33:01    43333\n",
       "HLA-A66:01    41538\n",
       "HLA-C12:03    36448\n",
       "HLA-C03:03    35568\n",
       "HLA-A11:01    33424\n",
       "HLA-A30:02    33180\n",
       "HLA-C08:02    32416\n",
       "HLA-A23:01    30467\n",
       "HLA-A32:01    28036\n",
       "HLA-B40:02    23768\n",
       "HLA-B14:02    21601\n",
       "HLA-B37:01    20048\n",
       "HLA-B40:01    18908\n",
       "HLA-B45:01    18750\n",
       "HLA-B18:01    18284\n",
       "HLA-B58:01    17946\n",
       "HLA-B15:02    16702\n",
       "HLA-B15:01    16624\n",
       "HLA-A30:01    15837\n",
       "HLA-C07:02    15293\n",
       "HLA-B46:01    14015\n",
       "HLA-B38:01     9509\n",
       "HLA-B35:03     8275\n",
       "HLA-A26:01     7730\n",
       "HLA-C05:01     7033\n",
       "HLA-A25:01     6906\n",
       "HLA-A68:01     5648\n",
       "HLA-B08:01     3365\n",
       "HLA-B07:02     2469\n",
       "Name: allele, dtype: int64"
      ]
     },
     "execution_count": 4,
     "metadata": {},
     "output_type": "execute_result"
    }
   ],
   "source": [
    "test_data['allele'].value_counts()"
   ]
  },
  {
   "cell_type": "code",
   "execution_count": 5,
   "id": "df2fc236",
   "metadata": {},
   "outputs": [
    {
     "data": {
      "text/plain": [
       "36"
      ]
     },
     "execution_count": 5,
     "metadata": {},
     "output_type": "execute_result"
    }
   ],
   "source": [
    "test_data['allele'].nunique()"
   ]
  },
  {
   "cell_type": "markdown",
   "id": "7e1c45aa",
   "metadata": {},
   "source": [
    "Based on the output:\n",
    "\n",
    "1. **Target Variable Distribution (hit)**:\n",
    "   - There are 9,452 samples with a target variable of 0 and 548 samples with a target variable of 1.\n",
    "   - This distribution suggests that there might be class imbalance, as the number of samples with target variable 0 is significantly higher than those with target variable 1.\n",
    "\n",
    "2. **Allele Distribution**:\n",
    "   - There are 99 unique alleles in the dataset.\n",
    "   - The distribution shows varying frequencies of different alleles, with some alleles appearing more frequently than others.\n",
    "\n",
    "3. **Peptide Length Distribution**:\n",
    "   - The average peptide length is approximately 10.83 amino acids.\n",
    "   - The standard deviation is about 1.97, indicating the spread of peptide lengths around the mean.\n",
    "   - Peptide lengths range from a minimum of 8 to a maximum of 15 amino acids.\n",
    "   - The median peptide length (50th percentile) is 11 amino acids, indicating that half of the peptides have a length of 11 or less, while the other half have a length of 11 or more.\n",
    "   - The interquartile range (IQR), which represents the range of values between the 25th and 75th percentiles, is from 9 to 13 amino acids.\n",
    "\n"
   ]
  },
  {
   "cell_type": "markdown",
   "id": "e912c91f",
   "metadata": {},
   "source": [
    "Finally, the distribution of the target variable will be visualised by creating a countplot using Seaborn."
   ]
  },
  {
   "cell_type": "code",
   "execution_count": 46,
   "id": "afb5ad7e",
   "metadata": {},
   "outputs": [
    {
     "data": {
      "image/png": "[encoded data removed]",
      "text/plain": [
       "<Figure size 800x600 with 1 Axes>"
      ]
     },
     "metadata": {},
     "output_type": "display_data"
    }
   ],
   "source": [
    "plt.figure(figsize=(8, 6))\n",
    "sns.countplot(x='hit', data=train_data_sample)\n",
    "plt.title('Distribution of Target Variable (Peptide Presentation)')\n",
    "plt.xlabel('Peptide Presentation')\n",
    "plt.ylabel('Count')\n",
    "plt.show()\n"
   ]
  },
  {
   "cell_type": "markdown",
   "id": "14542601",
   "metadata": {},
   "source": [
    "This suggests there is class imbalance in the target variable, which will be attempted to address in the later steps."
   ]
  },
  {
   "cell_type": "markdown",
   "id": "4123cb8d",
   "metadata": {},
   "source": [
    "## 2. METHOD EXPLANATION\n",
    "\n",
    "In this task, RANDOM FOREST CLASSIFIER (`RandomForestClassifier`) will be used as the algorithm to train and make predictions. Furthermore, a technique called 'One Hot Encoding' will be used to tranform the non numeric values of the 'peptide' and 'allele' columns into numeric ones so that the Random Forest Classifier can make predictions. Following are the detailed explanations of the methods (One Hot Encoding and Random Forest Classifier):\n",
    "\n",
    "\n",
    "1. **One-Hot Encoding**:\n",
    "   - One-hot encoding is a technique used to convert categorical variables into a numerical format that machine learning algorithms can understand.\n",
    "   - It represents each category as a binary vector where only one element is \"hot\" (set to 1) while the others are \"cold\" (set to 0).\n",
    "   - For example, consider the following amino acids in a peptide sequence: \"ACDEFG\". Each amino acid can be represented as a binary vector:\n",
    "     - \"A\": [1, 0, 0, 0, 0, 0]\n",
    "     - \"C\": [0, 1, 0, 0, 0, 0]\n",
    "     - \"D\": [0, 0, 1, 0, 0, 0]\n",
    "     - and so on...\n",
    "   - This encoding preserves the categorical nature of the variables while providing numerical features that can be used by machine learning algorithms.\n",
    "   \n",
    "\n",
    "2. **One-hot Encoding for Peptide Sequences and Alleles**:\n",
    "\n",
    "   - Peptide sequences and alleles are categorical variables that need to be converted into a numerical format for machine     learning algorithms.\n",
    "   - One-hot encoding is used to represent each amino acid in a peptide sequence and each allele as a binary vector.\n",
    "   - For peptide sequences, each amino acid is represented by a binary vector where only one element is \"hot\" (set to 1) while the others are \"cold\" (set to 0). This preserves the categorical nature of the amino acids while providing numerical features.\n",
    "   - Similarly, the alleles are encoded using one-hot encoding, where each unique allele is represented by a binary vector.\n",
    "   - Both the one-hot encoded peptide sequences and alleles are concatenated together to form the final feature matrix used for training the Random Forest Classifier.\n",
    "\n",
    "3. **Random Forest Classifier**:\n",
    "   - Random Forest Classifier is an ensemble learning method that combines multiple decision trees to make predictions.\n",
    "   - It builds multiple decision trees during training and merges their predictions to improve the overall accuracy and robustness of the model.\n",
    "   - Each decision tree in the random forest is trained on a random subset of the training data and a random subset of features.\n",
    "   - Random Forest Classifier is known for its ability to handle high-dimensional feature spaces, non-linear relationships, and noisy data.\n",
    "   - It's less prone to overfitting compared to individual decision trees and tends to generalize well to unseen data.\n",
    "\n",
    "3. **Why Random Forest Classifier is Used**:\n",
    "   \n",
    "   In this specific case of predicting peptide presentation by MHC class I proteins, Random Forest Classifier is chosen for several reasons:\n",
    "     - It's effective in handling classification tasks where there are complex relationships between features and the target variable.\n",
    "     - Peptide sequences and alleles are categorical variables that require careful handling, and Random Forest Classifier can effectively learn from such data.\n",
    "     - The problem involves predicting whether a peptide will be presented by a specific MHC class I protein, which may involve non-linear relationships and interactions between peptide sequences and alleles.\n",
    "     - Random Forest Classifier can handle such complexities and provide reliable predictions even in the presence of noise and high-dimensional feature spaces.\n",
    "     - In the code afterwards where the Random Forest Classifier is trained, the code instantiates a Random Forest Classifier with 100 trees (`n_estimators=100`) and sets the random state for reproducibility (`random_state=42`). Furthermore, `class_weight` is adjusted to '`balanced`' to address the class imbalance of the target variable.\n",
    "\n",
    "\n",
    "**REFERENCES:**\n",
    "\n",
    "- Denisko, D., & Hoffman, M. M. (2018). Classification and interaction in random forests. Proceedings of the National Academy of Sciences of the United States of America, 115(8), 1690–1692. https://doi.org/10.1073/pnas.1800256115\n",
    "\n",
    "- sklearn.preprocessing.OneHotEncoder. (n.d.). Retrieved from https://scikitlearn.org/stable/modules/generated/sklearn.preprocessing.OneHotEncoder.html\n",
    "\n",
    "- Nik. (2022, August 8). One-Hot Encoding in Scikit-Learn with OneHotEncoder. Retrieved from https://datagy.io/sklearn-one-hot-encode/\n",
    "\n",
    "- sklearn.ensemble.RandomForestClassifier. (n.d.). Retrieved from https://scikit-learn.org/stable/modules/generated/sklearn.ensemble.RandomForestClassifier.html\n",
    "\n",
    "- Nielsen, H., Lundegaard, C., & Lund, O. (2007). The netMHCpan consensus method forMHC class I binding prediction. BMC bioinformatics, 8(1), 248. (https://services.healthtech.dtu.dk/services/NetMHCpan-4.1)\n",
    "\n",
    "- Breiman, L. (2001). Random forests. Machine learning, 45(1), 5-32. (https://link.springer.com/article/10.1023/A:1010933404324)"
   ]
  },
  {
   "cell_type": "markdown",
   "id": "c67e3368",
   "metadata": {},
   "source": [
    "## 3. EXPERIMENT DESCRIPTION\n",
    "\n",
    "**GENERATING SUBSETS OF THE TRAINING AND TEST DATA**:\n",
    "\n",
    "Subsets of the `train_data_sample` and `test_data` will be generated in the code cell below."
   ]
  },
  {
   "cell_type": "code",
   "execution_count": 47,
   "id": "8eea9f90",
   "metadata": {},
   "outputs": [],
   "source": [
    "X_train = train_data_sample[['peptide', 'allele']]\n",
    "y_train = train_data_sample['hit']\n",
    "X_test = test_data[['peptide', 'allele']]\n",
    "y_test = test_data['hit']"
   ]
  },
  {
   "cell_type": "markdown",
   "id": "633c6c7d",
   "metadata": {},
   "source": [
    "The code segment splits the dataset above into training and test sets without using the `train_test_split` function. It achieves this by directly assigning subsets of the data to variables.\n",
    "\n",
    "- `X_train`: Contains the features for training, which are the 'peptide' and 'allele' columns from the sampled training dataset (`train_data_sample`).\n",
    "- `y_train`: Contains the corresponding target variable for training, which is the 'hit' column from the sampled training dataset.\n",
    "- `X_test`: Contains the features for testing, which are the 'peptide' and 'allele' columns from the test dataset (`test_data`).\n",
    "- `y_test`: Contains the corresponding target variable for testing, which is the 'hit' column from the test dataset.\n",
    "\n",
    "This approach was chosen instead of using `train_test_split` to explicitly split the dataset into training and test sets. Train-test split wasn't used because the dataset was already available in five folds, which was concatenated above, and ultimately will be used for cross-validation afterwards. The five folds provided ample data for training and validation, eliminating the need for an additional train-test split. Using the five folds ensures that the model is trained and evaluated across various subsets of the data, leading to more robust performance evaluation and model generalization. "
   ]
  },
  {
   "cell_type": "markdown",
   "id": "077ee15d",
   "metadata": {},
   "source": [
    "**FEATURE ENGINEERING-ONE HOT ENCODING OF PEPTIDE SEQUENCES AND ALLELE COLUMN**\n",
    "\n",
    "In the next steps, One hot encoding will be done on the peptide sequences and allele column so that they are converted into numeric values for the Random Forest Classifier to be trained and ultimately make predictions."
   ]
  },
  {
   "cell_type": "code",
   "execution_count": 48,
   "id": "58d644ae",
   "metadata": {},
   "outputs": [],
   "source": [
    "# FEATURE ENGINEERING - One-hot encoding for peptide sequences\n",
    "amino_acids = 'ACDEFGHIKLMNPQRSTVWY'\n",
    "max_peptide_length = max(train_data_sample['peptide'].apply(len))\n",
    "\n",
    "def peptide_to_onehot(peptide, max_length=max_peptide_length):\n",
    "    onehot_encoding = np.zeros((max_length, len(amino_acids)))\n",
    "    for i, aa in enumerate(peptide):\n",
    "        onehot_encoding[i, amino_acids.index(aa)] = 1\n",
    "    return onehot_encoding.flatten()\n",
    "\n",
    "X_train_encoded = np.array([peptide_to_onehot(seq) for seq in X_train['peptide']])\n",
    "X_test_encoded = np.array([peptide_to_onehot(seq) for seq in X_test['peptide']])"
   ]
  },
  {
   "cell_type": "markdown",
   "id": "02c73468",
   "metadata": {},
   "source": [
    "This code cell above is responsible for performing one-hot encoding on the peptide sequences. Here's a brief explanation of what was implemented and done:\n",
    "\n",
    "- `amino_acids` stores the list of all possible amino acids.\n",
    "- `max_peptide_length` determines the maximum length of peptide sequences in the training dataset.\n",
    "- The function `peptide_to_onehot` takes a peptide sequence as input and converts it into a one-hot encoded representation.\n",
    "- It initializes a matrix of zeros with dimensions `(max_peptide_length, len(amino_acids))` to represent the one-hot encoding of the peptide sequence.\n",
    "- It then iterates over each amino acid in the peptide sequence, finding its index in the `amino_acids` list and setting the corresponding position in the matrix to 1.\n",
    "- Finally, it flattens the matrix to create a one-dimensional array representing the one-hot encoded peptide sequence.\n",
    "\n",
    "The resulting `X_train_encoded` and `X_test_encoded` arrays contain the one-hot encoded representations of the peptide sequences, which will be used as input features for the Random Forest Classifier.\n",
    "\n",
    "(Even though ScikitLearn's inbuilt `OneHotEncoder` could have been used, what was important for me was to show how it is basically done from scratch, hence `OneHotEncoder` wasn't used.)"
   ]
  },
  {
   "cell_type": "code",
   "execution_count": 49,
   "id": "944a60ac",
   "metadata": {},
   "outputs": [
    {
     "name": "stderr",
     "output_type": "stream",
     "text": [
      "C:\\Users\\dell\\AppData\\Local\\Temp\\ipykernel_14556\\3172406459.py:2: SettingWithCopyWarning: \n",
      "A value is trying to be set on a copy of a slice from a DataFrame.\n",
      "Try using .loc[row_indexer,col_indexer] = value instead\n",
      "\n",
      "See the caveats in the documentation: https://pandas.pydata.org/pandas-docs/stable/user_guide/indexing.html#returning-a-view-versus-a-copy\n",
      "  X_train['allele_encoded'] = pd.factorize(X_train['allele'])[0]\n"
     ]
    }
   ],
   "source": [
    "#FEATURE ENGINEERING - One hot encoding of the allele column.\n",
    "X_train['allele_encoded'] = pd.factorize(X_train['allele'])[0]\n",
    "X_test['allele_encoded'] = pd.factorize(X_test['allele'])[0]\n",
    "\n",
    "# Concatenate one-hot encoded peptides with allele encoded column\n",
    "X_train_final = np.concatenate((X_train_encoded, X_train['allele_encoded'].values.reshape(-1, 1)), axis=1)\n",
    "X_test_final = np.concatenate((X_test_encoded, X_test['allele_encoded'].values.reshape(-1, 1)), axis=1)"
   ]
  },
  {
   "cell_type": "markdown",
   "id": "75e76809",
   "metadata": {},
   "source": [
    "This code cell above performs one-hot encoding for the allele column in the dataset and concatenates it with the previously encoded peptide sequences. Here's a brief explanation of the code and what was implemented:\n",
    "\n",
    "- `pd.factorize()` function is used to encode the categorical allele column into numerical labels.\n",
    "- The encoded allele labels are stored in a new column named `'allele_encoded'` in both the training and test datasets (`X_train` and `X_test`).\n",
    "- Then, the previously encoded peptide sequences (`X_train_encoded` and `X_test_encoded`) are concatenated with the newly encoded allele column using `np.concatenate()`.\n",
    "- The resulting `X_train_final` and `X_test_final` datasets contain both the one-hot encoded peptide sequences and the allele column, which are ready to be used as input features for the Random Forest Classifier, and for making predictions successively."
   ]
  },
  {
   "cell_type": "markdown",
   "id": "abc157af",
   "metadata": {},
   "source": [
    "**TRAINING THE RANDOM FOREST CLASSIFIER**\n",
    "\n",
    "In the next step, the Random Forest Classifier will be trained on the training data i.e., `X_train_final` and `y_train`. The number of decision trees i.e., `n_estimators` has been set to 100, the random seed represented by `random_state` is set to 42 and `class_weight` is set to 'balanced' in order to address the class imbalance of the target variable as visualised in the count plot above."
   ]
  },
  {
   "cell_type": "code",
   "execution_count": 50,
   "id": "620ee3d7",
   "metadata": {},
   "outputs": [
    {
     "data": {
      "text/plain": [
       "RandomForestClassifier(class_weight='balanced', random_state=42)"
      ]
     },
     "execution_count": 50,
     "metadata": {},
     "output_type": "execute_result"
    }
   ],
   "source": [
    "rf_classifier = RandomForestClassifier(n_estimators=100, random_state=42, class_weight = 'balanced')\n",
    "rf_classifier.fit(X_train_final, y_train)"
   ]
  },
  {
   "cell_type": "markdown",
   "id": "e81b9734",
   "metadata": {},
   "source": [
    "## 4. RESULT ANALYSIS\n",
    "\n",
    "In this final part of the task, the model will be analysed using Cross Validation, and then the model will be applied on the test data to assess its performance and how well it peforms on unseen data.\n",
    "\n",
    "\n",
    "The model is evaluated using Cross Validation to assess the performance of the Random Forest Classifier across different subsets of the training data, ensuring a robust evaluation of the model's ability to generalize to unseen peptide sequences and MHC1 alleles. This is done in the code cell below:"
   ]
  },
  {
   "cell_type": "code",
   "execution_count": 51,
   "id": "3998cf09",
   "metadata": {},
   "outputs": [
    {
     "name": "stdout",
     "output_type": "stream",
     "text": [
      "Cross-Validation Scores: [0.949 0.947 0.947 0.946 0.949]\n",
      "Mean Accuracy: 0.9475999999999999\n"
     ]
    }
   ],
   "source": [
    "# Model Evaluation using Cross-Validation\n",
    "cv_scores = cross_val_score(rf_classifier, X_train_final, y_train, cv=5, scoring='accuracy')\n",
    "print(\"Cross-Validation Scores:\", cv_scores)\n",
    "print(\"Mean Accuracy:\", cv_scores.mean())\n"
   ]
  },
  {
   "cell_type": "markdown",
   "id": "373fbf36",
   "metadata": {},
   "source": [
    "**ANALYSING THE CROSS VALIDATION SCORES**:\n",
    "\n",
    "The cross-validation scores indicate that the Random Forest Classifier achieved an average accuracy of approximately 94.76% across five folds of the training data. This suggests that the model performs consistently well on different subsets of the training data, indicating its robustness and generalization capability. In the context of the task, this high accuracy score is promising and indicates that the classifier is effective in predicting whether a given peptide will be presented by a specific MHC1 protein, identified by its allele name."
   ]
  },
  {
   "cell_type": "markdown",
   "id": "c8cb9527",
   "metadata": {},
   "source": [
    "In the next step, the Random Forest Classifier will be used to evaluate on the unseen data i.e., test data and the model's performance will be evaluated by printing the 'Classification report'."
   ]
  },
  {
   "cell_type": "code",
   "execution_count": 52,
   "id": "c90d0613",
   "metadata": {},
   "outputs": [
    {
     "name": "stdout",
     "output_type": "stream",
     "text": [
      "\n",
      "Classification Report on Test Set:\n",
      "              precision    recall  f1-score   support\n",
      "\n",
      "           0       0.95      1.00      0.98    900725\n",
      "           1       0.74      0.04      0.07     45416\n",
      "\n",
      "    accuracy                           0.95    946141\n",
      "   macro avg       0.84      0.52      0.52    946141\n",
      "weighted avg       0.94      0.95      0.93    946141\n",
      "\n",
      "Test Accuracy: 0.9531792830032733\n"
     ]
    }
   ],
   "source": [
    "# Final Evaluation on Test Set\n",
    "y_pred = rf_classifier.predict(X_test_final)\n",
    "print(\"\\nClassification Report on Test Set:\")\n",
    "print(classification_report(y_test, y_pred))\n",
    "test_accuracy = accuracy_score(y_test, y_pred)\n",
    "print(\"Test Accuracy:\", test_accuracy)\n"
   ]
  },
  {
   "cell_type": "markdown",
   "id": "d183701b",
   "metadata": {},
   "source": [
    "**ANALYSING THE CLASSIFICATION REPORT OF THE MODEL'S PERFORMANCE ON TEST DATA**:\n",
    "\n",
    "1. Precision, recall, and F1-score:\n",
    "   - For class 0 (peptides not presented), the classifier achieved high precision (0.95) and recall (1.00), indicating that it correctly identified the majority of samples that were not presented.\n",
    "   - However, for class 1 (peptides presented), the precision is relatively low (0.74), indicating that there were some false positives, and the recall is very low (0.04), indicating that the classifier missed a significant portion of samples that were presented.\n",
    "   - The F1-score, which balances precision and recall, is higher for class 0 (0.98) compared to class 1 (0.07).\n",
    "\n",
    "2. Test Accuracy:\n",
    "   - The overall test accuracy is 95.32%, which might seem high at the first view. However, it's crucial to consider the class imbalance in the dataset.\n",
    "   - The macro-average F1-score (0.52) indicates the balanced performance of the classifier across both classes.\n",
    "\n",
    "In the context of this task, while the classifier performs exceptionally well in identifying peptides that are not presented, it struggles to correctly identify presented peptides. This discrepancy in performance suggests that further investigation and potential adjustments are needed to improve the classifier's ability to detect presented peptides accurately."
   ]
  },
  {
   "cell_type": "markdown",
   "id": "7317fc81",
   "metadata": {},
   "source": [
    "**VISUALISING THE PERFORMANCE OF THE MODEL ON THE TEST DATA**:\n",
    "\n",
    "In the next code cells, the performance of the Random Forest Classifier on the test data is visualised using a Confusion Matrix and making a `heatmap` via Seaborn.\n",
    "\n"
   ]
  },
  {
   "cell_type": "code",
   "execution_count": 53,
   "id": "4ff79f1a",
   "metadata": {},
   "outputs": [
    {
     "data": {
      "text/plain": [
       "array([[900099,    626],\n",
       "       [ 43673,   1743]], dtype=int64)"
      ]
     },
     "execution_count": 53,
     "metadata": {},
     "output_type": "execute_result"
    }
   ],
   "source": [
    "cf_matrix = confusion_matrix(y_test, y_pred)\n",
    "cf_matrix"
   ]
  },
  {
   "cell_type": "code",
   "execution_count": 54,
   "id": "0ccb1d68",
   "metadata": {},
   "outputs": [
    {
     "data": {
      "image/png": "[encoded data removed]",
      "text/plain": [
       "<Figure size 640x480 with 2 Axes>"
      ]
     },
     "metadata": {},
     "output_type": "display_data"
    }
   ],
   "source": [
    "sns.heatmap(cf_matrix, annot=True)\n",
    "plt.xlabel('Predicted Labels')\n",
    "plt.ylabel('True Labels')\n",
    "plt.title('Confusion Matrix for Evaluation of model on Test Data')\n",
    "plt.show()"
   ]
  },
  {
   "cell_type": "markdown",
   "id": "3aceb346",
   "metadata": {},
   "source": [
    "**ANALYSING THE RANDOM FOREST CLASSIFIER BASED ON THE CONFUSION MATRIX**:\n",
    "\n",
    "The confusion matrix provides a detailed breakdown of the model's predictions compared to the actual labels in the test dataset. In the context of the task, the confusion matrix reveals the following:\n",
    "\n",
    "- **True Negatives (TN)**: The classifier correctly predicted 900,099 instances where peptides were not presented (class 0).\n",
    "- **False Positives (FP)**: The classifier incorrectly predicted 626 instances as presented peptides (class 1) when they were not.\n",
    "- **False Negatives (FN)**: The classifier incorrectly predicted 43,673 instances as non-presented peptides (class 0) when they were actually presented peptides (class 1).\n",
    "- **True Positives (TP)**: The classifier correctly predicted 1,743 instances where peptides were presented (class 1).\n",
    "\n",
    "These values indicate the classifier's performance in distinguishing between presented and non-presented peptides. In particular:\n",
    "\n",
    "- The high number of true negatives (900,099) suggests that the classifier is effective at identifying non-presented peptides.\n",
    "- However, the presence of false positives (626) and false negatives (43,673) indicates areas where the classifier may be making errors in its predictions.\n",
    "- The number of true positives (1,743) represents the instances where the classifier correctly identified presented peptides.\n",
    "\n",
    "To summarise, while the classifier demonstrates reasonable performance in some aspects, there are areas where it can be improved, particularly in reducing false positives and false negatives to enhance its predictive accuracy and reliability in peptide presentation prediction.\n",
    "\n"
   ]
  },
  {
   "cell_type": "markdown",
   "id": "369365e2",
   "metadata": {},
   "source": [
    "**SUGGESTIONS FOR FURTHER IMPROVING THE MODEL**:\n",
    "\n",
    "To enhance the performance of the Random Forest Classifier in predicting peptide presentation by MHC proteins, I recommend to employ various strategies customised to the specifics of the task and the dataset used here:\n",
    "\n",
    "1. **Addressing Class Imbalance**:\n",
    "   - Given the imbalance between presented (class 1) and non-presented (class 0) peptides, it is crucial to minimize this imbalance to prevent the classifier from being biased towards the majority class. Techniques like oversampling using Synthetic Minority Over-sampling Technique (SMOTE) or adjusting class weights during model training can help address this issue (Chawla et al., 2002).\n",
    "\n",
    "2. **Feature Engineering**:\n",
    "   - Additional features derived from peptide sequences or biological knowledge can be explored that can better capture the underlying patterns associated with peptide presentation. This may involve considering physiochemical properties of amino acids or structural motifs relevant to MHC binding (Nielsen et al., 2017).\n",
    "\n",
    "\n",
    "3. **Advanced Techniques**:\n",
    "   - We can use Deep Learning architectures, such as Convolutional Neural Networks (CNNs) or Recurrent Neural Networks (RNNs), to automatically learn hierarchical representations from peptide sequences and capture intricate dependencies (Alipanahi et al., 2015).\n",
    "\n",
    "\n",
    "By iteratively applying these strategies and incorporating domain-specific knowledge, we can develop a more robust and accurate classifier for predicting peptide presentation by MHC proteins.\n",
    "\n",
    "**REFERENCES**:\n",
    "\n",
    "- Chawla, N. V., Bowyer, K. W., Hall, L. O., & Kegelmeyer, W. P. (2002). SMOTE: Synthetic minority over-sampling technique. Journal of Artificial Intelligence Research, 16, 321-357.\n",
    "- Nielsen, M., Andreatta, M., & Peters, B. (2017). NetMHCpan-3.0; improved prediction of binding to MHC class I molecules integrating information from multiple receptor and peptide length datasets. Genome Medicine, 8(1), 1-13.\n",
    "- Alipanahi, B., Delong, A., Weirauch, M. T., & Frey, B. J. (2015). Predicting the sequence specificities of DNA- and RNA-binding proteins by deep learning. Nature Biotechnology, 33(8), 831-838.\n"
   ]
  },
  {
   "cell_type": "markdown",
   "id": "4bcc0190-665d-4329-90d1-042582f93d9c",
   "metadata": {},
   "source": [
    "Quiz 1:\n",
    "Question: What is the purpose of the first section (Dataset Analysis) in the notebook?\n",
    "Answer: The first section of the notebook focuses on exploring the dataset, examining its characteristics, uncovering potential issues, and checking for missing values to ensure data integrity.\n",
    "\n",
    "Quiz 2:\n",
    "Question: Which ensemble learning algorithm is explained and employed in the Method Explanation section?\n",
    "Answer: The Random Forest Classifier is the ensemble learning algorithm explained and employed in the Method Explanation section.\n",
    "\n",
    "Quiz 3:\n",
    "Question: What technique is used for representing categorical data in machine learning models in this notebook?\n",
    "Answer: One-hot encoding for peptide sequences and alleles is the technique used for representing categorical data in machine learning models in this notebook.\n",
    "\n",
    "Quiz 4:\n",
    "Question: What performance metrics are analyzed for the model in the Result Analysis section?\n",
    "Answer: Accuracy, precision, recall, and F1-score on both training and test sets, as well as a confusion matrix, are analyzed for the model in the Result Analysis section.\n",
    "\n",
    "Quiz 5:\n",
    "Question: Why was one-hot encoding performed on the peptide sequences in the given code cell?\n",
    "Answer: One-hot encoding was performed on the peptide sequences to convert them into numeric values, allowing the Random Forest Classifier to be trained and ultimately make predictions based on these features."
   ]
  },
  {
   "cell_type": "code",
   "execution_count": null,
   "id": "64eb459b-ef3d-45fc-b803-535c4d291c56",
   "metadata": {},
   "outputs": [],
   "source": []
  }
 ],
 "metadata": {
  "kernelspec": {
   "display_name": "Python 3 (ipykernel)",
   "language": "python",
   "name": "python3"
  },
  "language_info": {
   "codemirror_mode": {
    "name": "ipython",
    "version": 3
   },
   "file_extension": ".py",
   "mimetype": "text/x-python",
   "name": "python",
   "nbconvert_exporter": "python",
   "pygments_lexer": "ipython3",
   "version": "3.9.13"
  }
 },
 "nbformat": 4,
 "nbformat_minor": 5
}
